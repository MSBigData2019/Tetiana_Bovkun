{
 "cells": [
  {
   "cell_type": "code",
   "execution_count": 148,
   "metadata": {},
   "outputs": [],
   "source": [
    "import requests\n",
    "from bs4 import BeautifulSoup\n",
    "import numpy as np\n",
    "import pandas as pd\n",
    "import re\n",
    "import statistics as stat"
   ]
  },
  {
   "cell_type": "code",
   "execution_count": 149,
   "metadata": {},
   "outputs": [],
   "source": [
    "marque = ['HP', 'ASUS', 'DELL']\n"
   ]
  },
  {
   "cell_type": "code",
   "execution_count": 150,
   "metadata": {},
   "outputs": [],
   "source": [
    "def link(marque):\n",
    "    return f'https://www.darty.com/nav/extra/list?p=200&s=def&cat=26055&m={marque.upper()}'"
   ]
  },
  {
   "cell_type": "code",
   "execution_count": 151,
   "metadata": {},
   "outputs": [
    {
     "name": "stdout",
     "output_type": "stream",
     "text": [
      "HP\n",
      "https://www.darty.com/nav/extra/list?p=200&s=def&cat=26055&m=HP\n",
      "17.72222222222222\n",
      "ASUS\n",
      "https://www.darty.com/nav/extra/list?p=200&s=def&cat=26055&m=ASUS\n",
      "24.42622950819672\n",
      "DELL\n",
      "https://www.darty.com/nav/extra/list?p=200&s=def&cat=26055&m=DELL\n",
      "22.591836734693878\n"
     ]
    }
   ],
   "source": [
    "\n",
    "import re\n",
    "\n",
    "def get_all_remises(marque):\n",
    "    m_link = m\n",
    "    page = requests.get(link(marque))\n",
    "    remise_clean = []\n",
    "    soup = BeautifulSoup(page.text,'html.parser')\n",
    "    remise_raw = soup.find_all('span', class_='striped_price')\n",
    "    for item in remises:\n",
    "        remise = [item.text.strip() for item in list(remise_raw)]\n",
    "\n",
    "    for r in remise:\n",
    "        a = int(re.sub('\\D', '', r))\n",
    "        remise_clean.append(a)\n",
    "    return remise_clean\n",
    "    \n",
    "    \n",
    "    #print (remise_clean)\n",
    "    print(m)\n",
    "    print(stat.mean(remise_clean))\n",
    "    print (remise_clean)\n",
    "    \n",
    "for m in marque:\n",
    "    m_link = m\n",
    "    get_all_remises(m_link)\n",
    "    print(m)\n",
    "    print(link(m_link))\n",
    "    print(stat.mean(get_all_remises(m_link)))\n",
    "    "
   ]
  },
  {
   "cell_type": "code",
   "execution_count": null,
   "metadata": {},
   "outputs": [],
   "source": []
  }
 ],
 "metadata": {
  "kernelspec": {
   "display_name": "Python 3",
   "language": "python",
   "name": "python3"
  },
  "language_info": {
   "codemirror_mode": {
    "name": "ipython",
    "version": 3
   },
   "file_extension": ".py",
   "mimetype": "text/x-python",
   "name": "python",
   "nbconvert_exporter": "python",
   "pygments_lexer": "ipython3",
   "version": "3.6.5"
  }
 },
 "nbformat": 4,
 "nbformat_minor": 2
}
